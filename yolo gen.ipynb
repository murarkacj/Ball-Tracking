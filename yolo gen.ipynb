{
 "cells": [
  {
   "cell_type": "code",
   "execution_count": 1,
   "metadata": {},
   "outputs": [
    {
     "ename": "KeyboardInterrupt",
     "evalue": "",
     "output_type": "error",
     "traceback": [
      "\u001b[1;31m---------------------------------------------------------------------------\u001b[0m",
      "\u001b[1;31mKeyboardInterrupt\u001b[0m                         Traceback (most recent call last)",
      "Cell \u001b[1;32mIn[1], line 40\u001b[0m\n\u001b[0;32m     37\u001b[0m \u001b[39mwhile\u001b[39;00m success:\n\u001b[0;32m     38\u001b[0m     \u001b[39m# Save the frame image\u001b[39;00m\n\u001b[0;32m     39\u001b[0m     frame_filename \u001b[39m=\u001b[39m os\u001b[39m.\u001b[39mpath\u001b[39m.\u001b[39mjoin(output_dir, \u001b[39mf\u001b[39m\u001b[39m'\u001b[39m\u001b[39m{\u001b[39;00mfile[:\u001b[39m-\u001b[39m\u001b[39m4\u001b[39m]\u001b[39m}\u001b[39;00m\u001b[39m_frame_\u001b[39m\u001b[39m{\u001b[39;00mcount\u001b[39m}\u001b[39;00m\u001b[39m.jpg\u001b[39m\u001b[39m'\u001b[39m)\n\u001b[1;32m---> 40\u001b[0m     cv2\u001b[39m.\u001b[39;49mimwrite(frame_filename, image)\n\u001b[0;32m     42\u001b[0m     \u001b[39m# Create a label file for the current frame\u001b[39;00m\n\u001b[0;32m     43\u001b[0m     label_filename \u001b[39m=\u001b[39m os\u001b[39m.\u001b[39mpath\u001b[39m.\u001b[39mjoin(output_dir, \u001b[39mf\u001b[39m\u001b[39m'\u001b[39m\u001b[39m{\u001b[39;00mfile[:\u001b[39m-\u001b[39m\u001b[39m4\u001b[39m]\u001b[39m}\u001b[39;00m\u001b[39m_frame_\u001b[39m\u001b[39m{\u001b[39;00mcount\u001b[39m}\u001b[39;00m\u001b[39m.txt\u001b[39m\u001b[39m'\u001b[39m)\n",
      "\u001b[1;31mKeyboardInterrupt\u001b[0m: "
     ]
    }
   ],
   "source": [
    "import cv2\n",
    "import pandas as pd\n",
    "import os\n",
    "\n",
    "# Folder containing videos and CSV files\n",
    "folder_path = 'raw_data'\n",
    "\n",
    "# Get a list of all files in the folder\n",
    "files = os.listdir(folder_path)\n",
    "\n",
    "# Create a directory to store frames and labels\n",
    "output_dir = 'output_frames'\n",
    "os.makedirs(output_dir, exist_ok=True)\n",
    "\n",
    "# Iterate over the files in the folder\n",
    "for file in files:\n",
    "    # Check if the file is a video file\n",
    "    if file.endswith('.mp4'):\n",
    "        # Get the video file path\n",
    "        video_file = os.path.join(folder_path, file)\n",
    "\n",
    "        # Get the corresponding CSV file path\n",
    "        csv_file = os.path.join(folder_path, file[:-4] + '.csv')\n",
    "\n",
    "        # Read the video file\n",
    "        vidcap = cv2.VideoCapture(video_file)\n",
    "\n",
    "        # Get the frame rate of the original video\n",
    "        frame_rate = vidcap.get(cv2.CAP_PROP_FPS)\n",
    "\n",
    "        # Read the CSV file containing frame information\n",
    "        df = pd.read_csv(csv_file)\n",
    "\n",
    "        success, image = vidcap.read()\n",
    "        count = 0\n",
    "\n",
    "        while success:\n",
    "            # Save the frame image\n",
    "            frame_filename = os.path.join(output_dir, f'{file[:-4]}_frame_{count}.jpg')\n",
    "            cv2.imwrite(frame_filename, image)\n",
    "\n",
    "            # Create a label file for the current frame\n",
    "            label_filename = os.path.join(output_dir, f'{file[:-4]}_frame_{count}.txt')\n",
    "            label_file = open(label_filename, 'w')\n",
    "\n",
    "            # Write label information to the label file based on CSV data\n",
    "            frame_data = df[df['Frame'] == count]\n",
    "            for _, row in frame_data.iterrows():\n",
    "                visibility = row['Ball']\n",
    "                x = int(row['x'] * image.shape[1])  # Convert to pixel value\n",
    "                y = int(row['y'] * image.shape[0])  # Convert to pixel value\n",
    "                if visibility == 1:  # Adjust this condition based on your requirements\n",
    "                    # Calculate the normalized coordinates and write them to the label file\n",
    "                    label = f'0 {x / image.shape[1]} {y / image.shape[0]} 0.1 0.1\\n'\n",
    "                    label_file.write(label)\n",
    "\n",
    "            # Close the label file for the current frame\n",
    "            label_file.close()\n",
    "\n",
    "            success, image = vidcap.read()\n",
    "            count += 1\n",
    "\n",
    "        # Release the VideoCapture object\n",
    "        vidcap.release()"
   ]
  },
  {
   "cell_type": "code",
   "execution_count": null,
   "metadata": {},
   "outputs": [],
   "source": []
  }
 ],
 "metadata": {
  "kernelspec": {
   "display_name": "base",
   "language": "python",
   "name": "python3"
  },
  "language_info": {
   "codemirror_mode": {
    "name": "ipython",
    "version": 3
   },
   "file_extension": ".py",
   "mimetype": "text/x-python",
   "name": "python",
   "nbconvert_exporter": "python",
   "pygments_lexer": "ipython3",
   "version": "3.10.9"
  },
  "orig_nbformat": 4
 },
 "nbformat": 4,
 "nbformat_minor": 2
}
